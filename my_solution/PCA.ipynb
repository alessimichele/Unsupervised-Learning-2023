{
 "cells": [
  {
   "cell_type": "code",
   "execution_count": 2,
   "metadata": {},
   "outputs": [],
   "source": [
    "import numpy as np\n",
    "\n",
    "class MyPCA:\n",
    "    \"\"\"\n",
    "    A small class to perform PCA\n",
    "    ------------\n",
    "    X: np.array\n",
    "        dataframe with n observation and p features (nxp)\n",
    "    n_components: int\n",
    "        number of principal components we want to project on\n",
    "    ------------\n",
    "    output: np.array\n",
    "        return the projected data (nxn_components), where n_components is the number of principal components we have projected on\n",
    "    \"\"\"\n",
    "    \n",
    "    def __init__(self, n_components=None):\n",
    "        \"\"\"\n",
    "        Constructor for PCA class.\n",
    "        ----------\n",
    "        Parameters:\n",
    "        n_components : int (optional)\n",
    "            The number of principal components to n_componentseep (default is None).\n",
    "        \"\"\"\n",
    "        self.n_components = n_components\n",
    "        self.eigvecs_ = None\n",
    "        self.eigvals_ = None\n",
    "    \n",
    "    def fit_transform(self, X):\n",
    "        \"\"\"\n",
    "        Fit the PCA model to data and transform it.\n",
    "        ----------\n",
    "        Parameters:\n",
    "        X : numpy array\n",
    "            The data to fit the PCA model and transform. (n x p)\n",
    "\n",
    "        Returns:\n",
    "        projected_data : numpy array\n",
    "            The projected data.\n",
    "        \"\"\"\n",
    "        # center the data in the feature space\n",
    "        X_centered = X - np.mean(X, axis=0)\n",
    "\n",
    "        # compute the covariance matrix\n",
    "        cov_matrix = np.dot(X_centered.T, X_centered)\n",
    "\n",
    "        # perform eigen decomposition on the covariance matrix\n",
    "        eigvals, eigvecs = np.linalg.eig(cov_matrix)\n",
    "\n",
    "        # sort eigenvectors in decreasing order of eigenvalues\n",
    "        idx = np.argsort(eigvals)[::-1]        \n",
    "        eigvecs = eigvecs[:, idx]\n",
    "        eigvals = eigvals[idx]\n",
    "        \n",
    "        self.eigvecs_ = eigvecs\n",
    "        self.eigvals_ = eigvals\n",
    "\n",
    "        # select the top n_components eigenvectors\n",
    "        if self.n_components is not None:\n",
    "            top_eigvecs = eigvecs[:, :self.n_components]\n",
    "\n",
    "        \n",
    "        # project the original data onto the selected eigenvectors\n",
    "        projected_data = np.dot(X, top_eigvecs)\n",
    "\n",
    "        return projected_data\n",
    "   \n"
   ]
  },
  {
   "cell_type": "code",
   "execution_count": 3,
   "metadata": {},
   "outputs": [],
   "source": [
    "X = np.genfromtxt(\"../Datasets/data_kPCA_2022-2023.txt\")\n",
    "y = np.genfromtxt(\"../Datasets/labels_kPCA_2022-2023.txt\")"
   ]
  },
  {
   "cell_type": "code",
   "execution_count": 8,
   "metadata": {},
   "outputs": [
    {
     "name": "stdout",
     "output_type": "stream",
     "text": [
      "[6358.14630977 4969.25600835 4151.09816656 3033.60251736 2914.96445963\n",
      " 2867.75671971 2658.86156706 2428.27203624 2348.22985331 2019.01144932\n",
      " 1977.13821224 1897.19536404 1760.30939215 1708.81544232 1662.49746474\n",
      " 1480.56460599 1446.04494589 1298.8441453  1255.88173552  397.49897469]\n"
     ]
    }
   ],
   "source": [
    "pca = MyPCA(2)\n",
    "pca.fit_transform(X)\n",
    "print(pca.eigvals_)\n"
   ]
  }
 ],
 "metadata": {
  "kernelspec": {
   "display_name": "Python 3",
   "language": "python",
   "name": "python3"
  },
  "language_info": {
   "codemirror_mode": {
    "name": "ipython",
    "version": 3
   },
   "file_extension": ".py",
   "mimetype": "text/x-python",
   "name": "python",
   "nbconvert_exporter": "python",
   "pygments_lexer": "ipython3",
   "version": "3.11.1"
  },
  "orig_nbformat": 4
 },
 "nbformat": 4,
 "nbformat_minor": 2
}
