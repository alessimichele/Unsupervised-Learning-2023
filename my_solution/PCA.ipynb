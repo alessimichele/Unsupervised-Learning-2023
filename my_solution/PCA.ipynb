{
 "cells": [
  {
   "cell_type": "code",
   "execution_count": 1,
   "metadata": {},
   "outputs": [],
   "source": [
    "import numpy as np\n",
    "\n",
    "class MyPCA:\n",
    "    \"\"\"\n",
    "    A small class to perform PCA\n",
    "    ------------\n",
    "    Attributes:\n",
    "    n_components: int, default is None\n",
    "        number of principal components we want to project on\n",
    "    eigvecs_: None\n",
    "        All eigenvectors of covariance matrix decomposition, sorted w.r.t the maximum eigenvalues\n",
    "    eigvals_: None\n",
    "        All eigenvalues of covariance matrix decomposition, sorted w.r.t the maximum eigenvalues\n",
    "    singular_values_: None\n",
    "        The singular values corresponding to each of the selected components. The singular values are equal to the 2-norms of the n_components variables in the lower-dimensional space\n",
    "    \"\"\"\n",
    "    \n",
    "    def __init__(self, n_components=None):\n",
    "        \"\"\"\n",
    "        Constructor for PCA class.\n",
    "        ----------\n",
    "        Parameters:\n",
    "        n_components : int (optional)\n",
    "            The number of principal components we want to project on (default is None, meaning to project on all components).\n",
    "        \"\"\"\n",
    "        self.n_components = n_components\n",
    "        self.eigvecs_ = None\n",
    "        self.eigvals_ = None\n",
    "        self.singular_values_ = None\n",
    "    \n",
    "    def fit_transform(self, X):\n",
    "        \"\"\"\n",
    "        Fit the PCA model to data and transform the data.\n",
    "        ----------\n",
    "        Parameters:\n",
    "        X : numpy array\n",
    "            The data to fit the PCA model and transform, required in the form: (n x p) where n = number of observations and p = number of features\n",
    "        ----------\n",
    "        Returns:\n",
    "        projected_data : numpy array\n",
    "            The projected data.\n",
    "        \"\"\"\n",
    "        # center the data in the feature space\n",
    "        X_centered = X - np.mean(X, axis=0)\n",
    "\n",
    "        # compute the covariance matrix\n",
    "        cov_matrix = np.dot(X_centered.T, X_centered)/(X.shape[0])\n",
    "\n",
    "        # perform eigen decomposition on the covariance matrix\n",
    "        eigvals, eigvecs = np.linalg.eig(cov_matrix)\n",
    "\n",
    "        # sort eigenvectors in decreasing order of eigenvalues\n",
    "        idx = np.argsort(eigvals)[::-1]        \n",
    "        eigvecs = eigvecs[:, idx]\n",
    "        eigvals = eigvals[idx]\n",
    "        \n",
    "        self.eigvecs_ = eigvecs\n",
    "        self.eigvals_ = eigvals\n",
    "\n",
    "        self.singular_values_ = np.linalg.norm(np.dot(X, self.eigvecs_), axis = 0)\n",
    "\n",
    "        top_eigvecs = self.eigvecs_\n",
    "\n",
    "        # select the top n_components eigenvectors\n",
    "        if self.n_components is not None:\n",
    "            top_eigvecs = self.eigvecs_[:, :self.n_components]\n",
    "\n",
    "        \n",
    "        # project the original data onto the selected eigenvectors\n",
    "        projected_data = np.dot(X, top_eigvecs)\n",
    "\n",
    "        return projected_data\n",
    "   \n"
   ]
  },
  {
   "cell_type": "code",
   "execution_count": 2,
   "metadata": {},
   "outputs": [],
   "source": [
    "import pandas as pd\n",
    "import numpy as np\n",
    "import matplotlib.pyplot as plt\n",
    "from sklearn.model_selection import train_test_split\n",
    "from sklearn.linear_model import LogisticRegression\n",
    "from sklearn.preprocessing import OrdinalEncoder"
   ]
  },
  {
   "cell_type": "code",
   "execution_count": 3,
   "metadata": {},
   "outputs": [],
   "source": [
    "df = pd.read_excel(\"../Datasets/Dry_Bean_Dataset.xlsx\")"
   ]
  },
  {
   "cell_type": "code",
   "execution_count": 4,
   "metadata": {},
   "outputs": [],
   "source": [
    "y = df['Class']\n",
    "X = df.drop('Class', axis=1)"
   ]
  },
  {
   "cell_type": "code",
   "execution_count": 5,
   "metadata": {},
   "outputs": [
    {
     "name": "stdout",
     "output_type": "stream",
     "text": [
      "[[5.]\n",
      " [5.]\n",
      " [5.]\n",
      " ...\n",
      " [3.]\n",
      " [3.]\n",
      " [3.]]\n"
     ]
    }
   ],
   "source": [
    "encoder = OrdinalEncoder()\n",
    "y=np.array(y)\n",
    "encoder.fit(y.reshape(-1,1))\n",
    "y = encoder.transform(y.reshape(-1, 1))\n",
    "print(y)  \n",
    "\n",
    "\n",
    "X_mean = X.mean()\n",
    "X_std = X.std()\n",
    "\n",
    "X = (X-X_mean )/X_std"
   ]
  },
  {
   "cell_type": "code",
   "execution_count": 6,
   "metadata": {},
   "outputs": [
    {
     "data": {
      "text/plain": [
       "array([[-4.98137799e+00,  1.82463028e+00,  7.48993521e-01, ...,\n",
       "         6.16095528e-04, -2.11815350e-03, -3.97976392e-04],\n",
       "       [-5.43659253e+00,  2.93225707e+00,  2.18229381e+00, ...,\n",
       "        -4.80609144e-03,  2.27420142e-03, -3.12212428e-03],\n",
       "       [-4.75791351e+00,  1.82681673e+00,  5.14018715e-01, ...,\n",
       "        -9.71234018e-04, -2.48849330e-03, -2.16608943e-04],\n",
       "       ...,\n",
       "       [-1.41746264e+00,  1.41188516e-01, -3.87192126e-01, ...,\n",
       "         4.17704228e-04,  9.87157889e-04, -3.20944547e-04],\n",
       "       [-1.11462489e+00, -2.12671510e-01,  1.44083014e-01, ...,\n",
       "         1.23643027e-03,  1.31745847e-03, -4.93259628e-04],\n",
       "       [-7.66408708e-01, -6.46490357e-01, -9.94085047e-01, ...,\n",
       "        -8.39044342e-04, -4.81886615e-05,  7.28980608e-04]])"
      ]
     },
     "execution_count": 6,
     "metadata": {},
     "output_type": "execute_result"
    }
   ],
   "source": [
    "pca = MyPCA()\n",
    "pca.fit_transform(X)"
   ]
  },
  {
   "cell_type": "code",
   "execution_count": 8,
   "metadata": {},
   "outputs": [
    {
     "data": {
      "text/plain": [
       "[<matplotlib.lines.Line2D at 0x17c1aa110>]"
      ]
     },
     "execution_count": 8,
     "metadata": {},
     "output_type": "execute_result"
    },
    {
     "data": {
      "image/png": "[encoded data removed]",
      "text/plain": [
       "<Figure size 640x480 with 1 Axes>"
      ]
     },
     "metadata": {},
     "output_type": "display_data"
    }
   ],
   "source": [
    "plt.plot(np.arange(1,17),pca.singular_values_)"
   ]
  },
  {
   "cell_type": "code",
   "execution_count": null,
   "metadata": {},
   "outputs": [],
   "source": []
  },
  {
   "cell_type": "code",
   "execution_count": null,
   "metadata": {},
   "outputs": [],
   "source": []
  },
  {
   "cell_type": "code",
   "execution_count": null,
   "metadata": {},
   "outputs": [],
   "source": []
  },
  {
   "cell_type": "code",
   "execution_count": null,
   "metadata": {},
   "outputs": [],
   "source": []
  },
  {
   "cell_type": "code",
   "execution_count": null,
   "metadata": {},
   "outputs": [],
   "source": []
  },
  {
   "cell_type": "code",
   "execution_count": null,
   "metadata": {},
   "outputs": [],
   "source": []
  },
  {
   "cell_type": "code",
   "execution_count": null,
   "metadata": {},
   "outputs": [],
   "source": []
  },
  {
   "cell_type": "code",
   "execution_count": 3,
   "metadata": {},
   "outputs": [],
   "source": [
    "X = np.genfromtxt(\"../Datasets/data_kPCA_2022-2023.txt\")\n",
    "y = np.genfromtxt(\"../Datasets/labels_kPCA_2022-2023.txt\")"
   ]
  },
  {
   "cell_type": "code",
   "execution_count": 8,
   "metadata": {},
   "outputs": [
    {
     "name": "stdout",
     "output_type": "stream",
     "text": [
      "[6358.14630977 4969.25600835 4151.09816656 3033.60251736 2914.96445963\n",
      " 2867.75671971 2658.86156706 2428.27203624 2348.22985331 2019.01144932\n",
      " 1977.13821224 1897.19536404 1760.30939215 1708.81544232 1662.49746474\n",
      " 1480.56460599 1446.04494589 1298.8441453  1255.88173552  397.49897469]\n"
     ]
    }
   ],
   "source": [
    "pca = MyPCA(2)\n",
    "pca.fit_transform(X)\n",
    "print(pca.eigvals_)\n"
   ]
  }
 ],
 "metadata": {
  "kernelspec": {
   "display_name": "Python 3",
   "language": "python",
   "name": "python3"
  },
  "language_info": {
   "codemirror_mode": {
    "name": "ipython",
    "version": 3
   },
   "file_extension": ".py",
   "mimetype": "text/x-python",
   "name": "python",
   "nbconvert_exporter": "python",
   "pygments_lexer": "ipython3",
   "version": "3.11.1"
  },
  "orig_nbformat": 4
 },
 "nbformat": 4,
 "nbformat_minor": 2
}
