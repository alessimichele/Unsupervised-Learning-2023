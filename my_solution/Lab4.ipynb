{
 "cells": [
  {
   "cell_type": "code",
   "execution_count": 6,
   "metadata": {},
   "outputs": [],
   "source": [
    "import numpy as np\n",
    "from matplotlib import pyplot as plt"
   ]
  },
  {
   "cell_type": "code",
   "execution_count": 23,
   "metadata": {},
   "outputs": [],
   "source": [
    "def my_PCA(X, k):\n",
    "    \"\"\"\n",
    "    X: dataframe\n",
    "        dataframe with n observation and p features (nxp)\n",
    "    k: int\n",
    "        number of principal components we want to project on\n",
    "    output: array-shape\n",
    "        return the projected data (nxk), where k is the number of principal components we have projected on\n",
    "    \"\"\"\n",
    "\n",
    "    # center the data\n",
    "    X_std = X - X.mean(axis=0)\n",
    "\n",
    "    # compute the covariance matrix\n",
    "    cov_mat = np.dot(X_std.T, X_std)\n",
    "\n",
    "    eig_vals, eig_vecs = np.linalg.eig(cov_mat)\n",
    "    \n",
    "    sorted_indices = np.argsort(eig_vals)[::-1]\n",
    "    sorted_eigvecs = eig_vecs[:,sorted_indices]\n",
    "    \n",
    "    top_k_eigvecs = sorted_eigvecs[:k]\n",
    "\n",
    "    projection_matrix = top_k_eigvecs.T\n",
    "\n",
    "    return np.dot(X, projection_matrix)"
   ]
  },
  {
   "cell_type": "code",
   "execution_count": null,
   "metadata": {},
   "outputs": [],
   "source": []
  }
 ],
 "metadata": {
  "kernelspec": {
   "display_name": "Python 3",
   "language": "python",
   "name": "python3"
  },
  "language_info": {
   "codemirror_mode": {
    "name": "ipython",
    "version": 3
   },
   "file_extension": ".py",
   "mimetype": "text/x-python",
   "name": "python",
   "nbconvert_exporter": "python",
   "pygments_lexer": "ipython3",
   "version": "3.11.1"
  },
  "orig_nbformat": 4
 },
 "nbformat": 4,
 "nbformat_minor": 2
}
