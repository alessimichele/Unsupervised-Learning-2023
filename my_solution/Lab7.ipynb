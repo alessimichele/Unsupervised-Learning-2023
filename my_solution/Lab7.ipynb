{
 "cells": [
  {
   "attachments": {},
   "cell_type": "markdown",
   "metadata": {},
   "source": [
    "# Mutual Info Score"
   ]
  },
  {
   "cell_type": "code",
   "execution_count": null,
   "metadata": {},
   "outputs": [],
   "source": [
    "import pandas as pd\n",
    "import numpy as np"
   ]
  },
  {
   "cell_type": "code",
   "execution_count": null,
   "metadata": {},
   "outputs": [],
   "source": [
    "data = pd.read_csv(\"../Datasets/breast_cancer.csv\", header=None)\n",
    "data.columns = ['age', 'menopause', 'tumor-size', 'inv-nodes', 'node-caps', 'deg-malig', 'breast', 'breaast-quad', 'irradiat', 'class']\n",
    "data.dropna(axis=0, inplace=True)\n"
   ]
  },
  {
   "cell_type": "code",
   "execution_count": null,
   "metadata": {},
   "outputs": [],
   "source": [
    "y = data['class']\n",
    "X = data.drop('class', axis=1)\n",
    "#X = data.iloc[:,:9]"
   ]
  },
  {
   "cell_type": "code",
   "execution_count": null,
   "metadata": {},
   "outputs": [],
   "source": [
    "X = np.array(X)\n",
    "y = np.array(y)"
   ]
  },
  {
   "cell_type": "code",
   "execution_count": null,
   "metadata": {},
   "outputs": [],
   "source": [
    "from sklearn.preprocessing import OrdinalEncoder\n",
    "encoder = OrdinalEncoder()\n",
    "encoder.fit(y.reshape(-1,1))\n",
    "y = encoder.transform(y.reshape(-1, 1))"
   ]
  },
  {
   "cell_type": "code",
   "execution_count": null,
   "metadata": {},
   "outputs": [],
   "source": [
    "encoder.fit(X)\n",
    "X = encoder.transform(X)"
   ]
  },
  {
   "attachments": {},
   "cell_type": "markdown",
   "metadata": {},
   "source": [
    "We want to compute $MIC$. In the case where $X$ is categorical and $Y$ is numerical, is:\n",
    "$$ MIC(X,Y) = \\int \\int p(x,y) \\log(\\frac{p(x,y)}{p(x)p(y)}) dx dy $$\n",
    "\n",
    "When both $X$ and $Y$ are categorichal, with $X$ having $k$ classess and $Y$ having $h$ classess it is:\n",
    "\n",
    "\\begin{align} \n",
    "MIC(X,Y) &= \\sum_{y \\in Y} \\sum_{x \\in X} p(x,y) \\log(\\frac{p(x,y)}{p(x)p(y)}) \\\\\n",
    "& = p(x = x_1,y = y_1) \\log(\\frac{p(x=x_1,y=y_1)}{p(x=x_1)p(y=y_1)}) + \\cdots + p(x = x_k,y = y_1) \\log(\\frac{p(x=x_k,y=y_1)}{p(x=x_k)p(y=y_1)}) \\ + \\\\\n",
    "& \\vdots \\\\\n",
    "& + p(x = x_1,y = y_h) \\log(\\frac{p(x=x_1,y=y_h)}{p(x=x_1)p(y=y_h)}) + \\cdots + p(x = x_k,y = y_h) \\log(\\frac{p(x=x_k,y=y_h)}{p(x=x_k)p(y=y_h)}) = \\\\\n",
    "\\end{align}\n",
    "\n",
    "and: $$p(x = x_i , y = y_j) = p(x = x_i | y = y_j) p(y = y_j)  = \\frac{\\#x_i}{|y_j|}  \\frac{\\#y_j}{|Y|}$$.\n",
    "So:\n",
    "$$ MIC(X,Y) = \\sum_{y \\in Y} \\sum_{x \\in X} p(x|y)p(y) \\log(\\frac{p(x|y)p(y)}{p(x)p(y)}) $$"
   ]
  },
  {
   "cell_type": "code",
   "execution_count": null,
   "metadata": {},
   "outputs": [],
   "source": [
    "def MIC(x,y):\n",
    "    \n",
    "    x_levels = np.unique(x)\n",
    "    y_levels = np.unique(y)\n",
    "    # count how many elements per each level for each i={1,...,k} and j={1,...,h}\n",
    "    x_count = np.array([np.count_nonzero(x == i) for i in x_levels])\n",
    "    y_count = np.array([np.count_nonzero(y == i) for i in y_levels])\n",
    "\n",
    "    mic = 0\n",
    "    for i in range(len(y_levels)):\n",
    "        for j in range(len(x_levels)):\n",
    "\n",
    "            joint = (np.count_nonzero((y == i) & (x == j)) / x_count[j]) * x_count[j]/len(x)\n",
    "            if joint == 0:\n",
    "                continue\n",
    "            else:\n",
    "                mic += joint * np.log(joint/(x_count[j]/len(x)*y_count[i]/len(y)))\n",
    "    return mic\n",
    "    \n",
    "\n",
    "    "
   ]
  },
  {
   "cell_type": "code",
   "execution_count": null,
   "metadata": {},
   "outputs": [],
   "source": [
    "def MIC_specular(x,y):\n",
    "    \n",
    "    x_levels = np.unique(x)\n",
    "    y_levels = np.unique(y)\n",
    "    # count how many elements per each level for each i={1,...,k} and j={1,...,h}\n",
    "    x_count = np.array([np.count_nonzero(x == i) for i in x_levels])\n",
    "    y_count = np.array([np.count_nonzero(y == i) for i in y_levels])\n",
    "\n",
    "    mic = 0\n",
    "    for i in range(len(y_levels)):\n",
    "        for j in range(len(x_levels)):\n",
    "\n",
    "            joint = (np.count_nonzero((y == i) & (x == j)) / y_count[i]) * y_count[i]/len(y)\n",
    "            if joint == 0:\n",
    "                continue\n",
    "            else:\n",
    "                mic += joint * np.log(joint/(x_count[j]/len(x)*y_count[i]/len(y)))\n",
    "    return mic"
   ]
  },
  {
   "cell_type": "code",
   "execution_count": null,
   "metadata": {},
   "outputs": [],
   "source": [
    "for i in range(X.shape[1]):\n",
    "    print(f'MIC between {i} covriate and target: ', MIC(X[:,i], y.ravel()))"
   ]
  },
  {
   "cell_type": "code",
   "execution_count": null,
   "metadata": {},
   "outputs": [],
   "source": [
    "for i in range(X.shape[1]):\n",
    "    print(f'MIC between {i} covriate and target: ', MIC_specular(X[:,i], y.ravel()))"
   ]
  },
  {
   "cell_type": "code",
   "execution_count": null,
   "metadata": {},
   "outputs": [],
   "source": [
    "from sklearn.metrics import mutual_info_score\n",
    "\n",
    "for i in range(X.shape[1]):\n",
    "    print(f'MIC between {i} covriate and target: ', mutual_info_score(X[:,i], y.ravel()))"
   ]
  },
  {
   "attachments": {},
   "cell_type": "markdown",
   "metadata": {},
   "source": [
    "# k-Means"
   ]
  },
  {
   "cell_type": "code",
   "execution_count": 1,
   "metadata": {},
   "outputs": [],
   "source": [
    "import math\n",
    "import pandas as pd\n",
    "import numpy as np\n",
    "import os\n",
    "import sys\n",
    "from kmeans import MyKmeans"
   ]
  },
  {
   "cell_type": "code",
   "execution_count": 2,
   "metadata": {},
   "outputs": [],
   "source": [
    "X = np.genfromtxt(\"../Datasets/s3.txt\")\n",
    "y = np.genfromtxt(\"../Datasets/s3.txt\")"
   ]
  },
  {
   "cell_type": "code",
   "execution_count": null,
   "metadata": {},
   "outputs": [],
   "source": [
    "from matplotlib import pyplot as plt\n",
    "kmeans = MyKmeans(k=15, algorithm_variant='kmeans')\n",
    "cmap = plt.get_cmap('jet', kmeans.k)\n",
    "for i in range(10):\n",
    "    kmeans.fit(X, random_choice=i)\n",
    "    kmeans.plot(X)\n",
    "    kmeans.set_to_zero()"
   ]
  },
  {
   "cell_type": "code",
   "execution_count": 6,
   "metadata": {},
   "outputs": [
    {
     "data": {
      "text/plain": [
       "19259955363912.855"
      ]
     },
     "execution_count": 6,
     "metadata": {},
     "output_type": "execute_result"
    }
   ],
   "source": [
    "kmeans = MyKmeans(k=15, algorithm_variant='kmeans')\n",
    "kmeans.fit(X, random_choice=4)\n",
    "kmeans.loss"
   ]
  },
  {
   "cell_type": "code",
   "execution_count": 4,
   "metadata": {},
   "outputs": [
    {
     "data": {
      "application/vnd.jupyter.widget-view+json": {
       "model_id": "e199666d8c8b4101a178046e77bbee13",
       "version_major": 2,
       "version_minor": 0
      },
      "text/plain": [
       "interactive(children=(IntSlider(value=0, description='i', max=42), Output()), _dom_classes=('widget-interact',…"
      ]
     },
     "execution_count": 4,
     "metadata": {},
     "output_type": "execute_result"
    }
   ],
   "source": [
    "# funny interactive plot to show the evolution of the algorithm\n",
    "kmeans = MyKmeans(k=15, algorithm_variant='kmeans')\n",
    "kmeans.fit(X, random_choice=4)\n",
    "kmeans.plot_history(X)"
   ]
  },
  {
   "cell_type": "code",
   "execution_count": 5,
   "metadata": {},
   "outputs": [
    {
     "data": {
      "application/vnd.jupyter.widget-view+json": {
       "model_id": "1458ada9eb6846db9a32b64d4ac09560",
       "version_major": 2,
       "version_minor": 0
      },
      "text/plain": [
       "interactive(children=(IntSlider(value=0, description='i', max=19), Output()), _dom_classes=('widget-interact',…"
      ]
     },
     "execution_count": 5,
     "metadata": {},
     "output_type": "execute_result"
    }
   ],
   "source": [
    "# funny interactive plot to show the evolution of the algorithm\n",
    "kmeanspp = MyKmeans(k=15, algorithm_variant='kmeans++')\n",
    "kmeanspp.fit(X, random_choice=4)\n",
    "kmeanspp.plot_history(X)"
   ]
  },
  {
   "cell_type": "code",
   "execution_count": null,
   "metadata": {},
   "outputs": [],
   "source": [
    "# create a GIF\n",
    "kmeans.create_gif(X)"
   ]
  },
  {
   "cell_type": "code",
   "execution_count": null,
   "metadata": {},
   "outputs": [],
   "source": [
    "from sklearn.cluster import KMeans\n",
    "\n",
    "kmeans = KMeans(n_clusters=15, )\n",
    "kmeans.fit_predict(X)\n",
    "plt.scatter(X[:,0], X[:,1], c=kmeans.labels_)"
   ]
  }
 ],
 "metadata": {
  "kernelspec": {
   "display_name": "Python 3",
   "language": "python",
   "name": "python3"
  },
  "language_info": {
   "codemirror_mode": {
    "name": "ipython",
    "version": 3
   },
   "file_extension": ".py",
   "mimetype": "text/x-python",
   "name": "python",
   "nbconvert_exporter": "python",
   "pygments_lexer": "ipython3",
   "version": "3.11.1"
  },
  "orig_nbformat": 4
 },
 "nbformat": 4,
 "nbformat_minor": 2
}
